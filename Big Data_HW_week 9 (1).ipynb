{
 "cells": [
  {
   "cell_type": "code",
   "execution_count": 1,
   "id": "e262c3cb",
   "metadata": {},
   "outputs": [
    {
     "name": "stdout",
     "output_type": "stream",
     "text": [
      "Requirement already satisfied: mrjob in c:\\users\\user\\anaconda3\\lib\\site-packages (0.7.4)\n",
      "Requirement already satisfied: PyYAML>=3.10 in c:\\users\\user\\anaconda3\\lib\\site-packages (from mrjob) (6.0)\n"
     ]
    }
   ],
   "source": [
    "!pip install mrjob"
   ]
  },
  {
   "cell_type": "code",
   "execution_count": 4,
   "id": "11df1b2f",
   "metadata": {},
   "outputs": [
    {
     "name": "stdout",
     "output_type": "stream",
     "text": [
      "Overwriting myfile4.py\n"
     ]
    }
   ],
   "source": [
    "%%file myfile4.py\n",
    "from mrjob.job import MRJob\n",
    "import re\n",
    "class map_reduce4(MRJob):\n",
    "    def mapper(self,_,line):\n",
    "        words=line.split(' ')\n",
    "        for word in words:\n",
    "            key=re.findall(r'[a-z0-9\\’]+',word.lower())\n",
    "            yield key,1#\n",
    "    def reducer(self,key,values):\n",
    "        yield key,sum(values)\n",
    "if __name__=='__main__':\n",
    "    map_reduce4.run()"
   ]
  },
  {
   "cell_type": "code",
   "execution_count": 5,
   "id": "4cf7b45d",
   "metadata": {},
   "outputs": [
    {
     "name": "stderr",
     "output_type": "stream",
     "text": [
      "No configs found; falling back on auto-configuration\n",
      "No configs specified for inline runner\n",
      "Creating temp directory C:\\Users\\User\\AppData\\Local\\Temp\\myfile4.User.20220527.081306.535721\n",
      "Running step 1 of 1...\n",
      "job output is in C:\\Users\\User\\AppData\\Local\\Temp\\myfile4.User.20220527.081306.535721\\output\n",
      "Streaming final output from C:\\Users\\User\\AppData\\Local\\Temp\\myfile4.User.20220527.081306.535721\\output...\n",
      "Removing temp directory C:\\Users\\User\\AppData\\Local\\Temp\\myfile4.User.20220527.081306.535721...\n"
     ]
    }
   ],
   "source": [
    "!python myfile4.py data > test.txt"
   ]
  },
  {
   "cell_type": "code",
   "execution_count": 6,
   "id": "24a5b7b2",
   "metadata": {},
   "outputs": [
    {
     "name": "stdout",
     "output_type": "stream",
     "text": [
      "Requirement already satisfied: mrjob in c:\\users\\user\\anaconda3\\lib\\site-packages (0.7.4)\n",
      "Requirement already satisfied: PyYAML>=3.10 in c:\\users\\user\\anaconda3\\lib\\site-packages (from mrjob) (6.0)\n"
     ]
    }
   ],
   "source": [
    "!pip install mrjob"
   ]
  },
  {
   "cell_type": "code",
   "execution_count": 7,
   "id": "b430d504",
   "metadata": {},
   "outputs": [
    {
     "name": "stdout",
     "output_type": "stream",
     "text": [
      "Writing file22.py\n"
     ]
    }
   ],
   "source": [
    "%%file file22.py\n",
    "from mrjob.job import MRJob\n",
    "\n",
    "class MapReducer(MRJob):\n",
    "    def mapper(self,_,line):\n",
    "        location, time, voter = line.split(',')\n",
    "        voter=int(voter)\n",
    "        yield location, voter\n",
    " \n",
    "    def reducer(self, location, voters):\n",
    "        min_voter = next(voters)\n",
    "        max_voter = min_voter\n",
    "        for item in voters:\n",
    "            min_voter = min(item, min_voter)\n",
    "            max_voter = max(item, max_voter)\n",
    "        yield location, (min_voter, max_voter)\n",
    "\n",
    "if __name__=='__main__':\n",
    "    MapReducer.run()\n"
   ]
  },
  {
   "cell_type": "code",
   "execution_count": 8,
   "id": "c328ea8a",
   "metadata": {},
   "outputs": [
    {
     "name": "stderr",
     "output_type": "stream",
     "text": [
      "No configs found; falling back on auto-configuration\n",
      "No configs specified for inline runner\n",
      "Creating temp directory C:\\Users\\User\\AppData\\Local\\Temp\\file22.User.20220527.081329.339923\n",
      "Running step 1 of 1...\n",
      "job output is in C:\\Users\\User\\AppData\\Local\\Temp\\file22.User.20220527.081329.339923\\output\n",
      "Streaming final output from C:\\Users\\User\\AppData\\Local\\Temp\\file22.User.20220527.081329.339923\\output...\n",
      "Removing temp directory C:\\Users\\User\\AppData\\Local\\Temp\\file22.User.20220527.081329.339923...\n"
     ]
    }
   ],
   "source": [
    "!python file22.py voters.csv>output22.txt"
   ]
  },
  {
   "cell_type": "code",
   "execution_count": null,
   "id": "584db6d3",
   "metadata": {},
   "outputs": [],
   "source": []
  }
 ],
 "metadata": {
  "kernelspec": {
   "display_name": "Python 3 (ipykernel)",
   "language": "python",
   "name": "python3"
  },
  "language_info": {
   "codemirror_mode": {
    "name": "ipython",
    "version": 3
   },
   "file_extension": ".py",
   "mimetype": "text/x-python",
   "name": "python",
   "nbconvert_exporter": "python",
   "pygments_lexer": "ipython3",
   "version": "3.9.7"
  }
 },
 "nbformat": 4,
 "nbformat_minor": 5
}
