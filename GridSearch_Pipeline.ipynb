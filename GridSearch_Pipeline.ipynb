{
  "nbformat": 4,
  "nbformat_minor": 0,
  "metadata": {
    "colab": {
      "name": "Copy of Pipeline.ipynb",
      "provenance": [],
      "collapsed_sections": [],
      "mount_file_id": "1rsyYTnbzvWWh_QPaAO4IDYZB3Z_taqQ3",
      "authorship_tag": "ABX9TyMQSrL1DpMemu7yRr094Zw6",
      "include_colab_link": true
    },
    "kernelspec": {
      "name": "python3",
      "display_name": "Python 3"
    },
    "language_info": {
      "name": "python"
    },
    "gpuClass": "standard"
  },
  "cells": [
    {
      "cell_type": "markdown",
      "metadata": {
        "id": "view-in-github",
        "colab_type": "text"
      },
      "source": [
        "<a href=\"https://colab.research.google.com/github/Nomad653/Python/blob/main/GridSearch_Pipeline.ipynb\" target=\"_parent\"><img src=\"https://colab.research.google.com/assets/colab-badge.svg\" alt=\"Open In Colab\"/></a>"
      ]
    },
    {
      "cell_type": "code",
      "execution_count": 38,
      "metadata": {
        "id": "CdHQHcu_jNMS"
      },
      "outputs": [],
      "source": [
        "import numpy as np"
      ]
    },
    {
      "cell_type": "code",
      "source": [
        "import pandas as pd"
      ],
      "metadata": {
        "id": "x9D2X335jRXK"
      },
      "execution_count": 39,
      "outputs": []
    },
    {
      "cell_type": "code",
      "source": [
        "from sklearn.linear_model import LogisticRegression"
      ],
      "metadata": {
        "id": "C0VXq7AAkJgo"
      },
      "execution_count": 40,
      "outputs": []
    },
    {
      "cell_type": "code",
      "source": [
        "from sklearn.preprocessing import StandardScaler"
      ],
      "metadata": {
        "id": "JMAa-WT0ysF0"
      },
      "execution_count": 41,
      "outputs": []
    },
    {
      "cell_type": "code",
      "source": [
        "from sklearn.pipeline import Pipeline"
      ],
      "metadata": {
        "id": "yE1tDxTMzXYN"
      },
      "execution_count": 42,
      "outputs": []
    },
    {
      "cell_type": "code",
      "source": [
        "from sklearn.impute import SimpleImputer"
      ],
      "metadata": {
        "id": "3ASv0Iie2SXN"
      },
      "execution_count": 43,
      "outputs": []
    },
    {
      "cell_type": "code",
      "source": [
        "from sklearn.preprocessing import OneHotEncoder"
      ],
      "metadata": {
        "id": "JLUpfN483Aed"
      },
      "execution_count": 44,
      "outputs": []
    },
    {
      "cell_type": "code",
      "source": [
        "from sklearn.compose import ColumnTransformer"
      ],
      "metadata": {
        "id": "rQdOC8ST4eUl"
      },
      "execution_count": 45,
      "outputs": []
    },
    {
      "cell_type": "code",
      "source": [
        "from sklearn.ensemble import RandomForestClassifier"
      ],
      "metadata": {
        "id": "BcnqXDbvlEio"
      },
      "execution_count": 46,
      "outputs": []
    },
    {
      "cell_type": "code",
      "source": [
        "from sklearn.model_selection import train_test_split"
      ],
      "metadata": {
        "id": "p1MasN5A6Fz1"
      },
      "execution_count": 47,
      "outputs": []
    },
    {
      "cell_type": "code",
      "source": [
        "from scipy.stats import zscore"
      ],
      "metadata": {
        "id": "woGXC17zXvvf"
      },
      "execution_count": 48,
      "outputs": []
    },
    {
      "cell_type": "code",
      "source": [
        "from sklearn import tree"
      ],
      "metadata": {
        "id": "3qSZv3QCTzsu"
      },
      "execution_count": 49,
      "outputs": []
    },
    {
      "cell_type": "code",
      "source": [
        "from sklearn.decomposition import PCA"
      ],
      "metadata": {
        "id": "aISaEwN6UcNl"
      },
      "execution_count": 50,
      "outputs": []
    },
    {
      "cell_type": "code",
      "source": [
        "from sklearn.model_selection import GridSearchCV"
      ],
      "metadata": {
        "id": "aZMHpAX1PYjy"
      },
      "execution_count": 51,
      "outputs": []
    },
    {
      "cell_type": "code",
      "source": [
        "data = pd.read_csv(\"/content/drive/MyDrive/Machine Learning/Titanic competition/train.csv\")"
      ],
      "metadata": {
        "id": "yznAi8HwjW8Z"
      },
      "execution_count": 52,
      "outputs": []
    },
    {
      "cell_type": "code",
      "source": [
        "new_data = data.drop(columns=[\"HomePlanet\",\"Name\",\"PassengerId\"])"
      ],
      "metadata": {
        "id": "Puss8OaUjubI"
      },
      "execution_count": 53,
      "outputs": []
    },
    {
      "cell_type": "code",
      "source": [
        "new_data['Total_billed'] = new_data.RoomService + new_data.FoodCourt + new_data.ShoppingMall +new_data.Spa +new_data.VRDeck"
      ],
      "metadata": {
        "id": "yBr2zjJWYGrn"
      },
      "execution_count": 54,
      "outputs": []
    },
    {
      "cell_type": "code",
      "source": [
        "conditions = [\n",
        "              (new_data['Age']<2),\n",
        "              (new_data['Age']<=15), #Child\n",
        "              (new_data['Age']>15) & (new_data['Age']<=18), #Teenager\n",
        "              (new_data['Age']>18) & (new_data['Age']<=35),#Young adult\n",
        "              (new_data['Age']>35) & (new_data['Age']<=50), #Mid-age\n",
        "              (new_data['Age']>50) & (new_data['Age']<=60),#Old\n",
        "              (new_data['Age']>60)\n",
        "\n",
        "\n",
        "]\n",
        "values = ['Infant','Child','Teenager','Young adult','Mid-age','Old','Elderly']"
      ],
      "metadata": {
        "id": "t2QPzylWAy_P"
      },
      "execution_count": 55,
      "outputs": []
    },
    {
      "cell_type": "code",
      "source": [
        "new_data['Age_group'] = np.select(conditions,values)"
      ],
      "metadata": {
        "id": "CrHJuZRsdcrY"
      },
      "execution_count": 56,
      "outputs": []
    },
    {
      "cell_type": "code",
      "source": [
        "new_data['Cabin'].value_counts()"
      ],
      "metadata": {
        "colab": {
          "base_uri": "https://localhost:8080/"
        },
        "id": "JHyNZdnvSdeg",
        "outputId": "b3cc5035-37ba-4f0d-f701-9cd2ce2e10df"
      },
      "execution_count": 57,
      "outputs": [
        {
          "output_type": "execute_result",
          "data": {
            "text/plain": [
              "G/734/S     8\n",
              "G/109/P     7\n",
              "B/201/P     7\n",
              "G/1368/P    7\n",
              "G/981/S     7\n",
              "           ..\n",
              "G/556/P     1\n",
              "E/231/S     1\n",
              "G/545/S     1\n",
              "G/543/S     1\n",
              "F/947/P     1\n",
              "Name: Cabin, Length: 6560, dtype: int64"
            ]
          },
          "metadata": {},
          "execution_count": 57
        }
      ]
    },
    {
      "cell_type": "code",
      "source": [
        "#new_data['Family'] = np.where(((new_data['Cabin'].value_counts())>1),True,False)"
      ],
      "metadata": {
        "id": "P_XXG4TpE0b1"
      },
      "execution_count": 58,
      "outputs": []
    },
    {
      "cell_type": "code",
      "source": [
        "X  =new_data.drop(\"Transported\",axis=1)\n",
        "\n",
        "y = new_data[\"Transported\"]"
      ],
      "metadata": {
        "id": "9LrTI5s8jvss"
      },
      "execution_count": 59,
      "outputs": []
    },
    {
      "cell_type": "code",
      "source": [
        "num=X.select_dtypes(include=\"number\").columns\n",
        "cat=X.select_dtypes(include=\"object\").columns"
      ],
      "metadata": {
        "id": "C2OatGWm4JY0"
      },
      "execution_count": 60,
      "outputs": []
    },
    {
      "cell_type": "code",
      "source": [
        "X_train,X_test,y_train,y_test = train_test_split(X,y,test_size=0.2,random_state=42)"
      ],
      "metadata": {
        "id": "sWQf_hNY6EVF"
      },
      "execution_count": 61,
      "outputs": []
    },
    {
      "cell_type": "code",
      "source": [
        "num_pipeline = Pipeline(steps=[(\"num_imputer\", SimpleImputer(strategy=\"most_frequent\",missing_values=np.nan)),\n",
        "                               (\"scaler\",StandardScaler())\n",
        "                        ])\n",
        "\n",
        "cat_pipeline = Pipeline(steps=[\n",
        "                               ('imputer',SimpleImputer(strategy=\"most_frequent\",missing_values=np.nan)),\n",
        "                               ('onehot',OneHotEncoder(handle_unknown=\"ignore\",sparse=False))\n",
        "])"
      ],
      "metadata": {
        "id": "sRmrDHJjzHEG"
      },
      "execution_count": 62,
      "outputs": []
    },
    {
      "cell_type": "code",
      "source": [
        "preprocessor = ColumnTransformer([(\"numerical_pipeline\",num_pipeline,num),\n",
        "                                  (\"categorical_pipeline\",cat_pipeline,cat)\n",
        "                                  ])"
      ],
      "metadata": {
        "id": "rDzBkRFUzyO9"
      },
      "execution_count": 63,
      "outputs": []
    },
    {
      "cell_type": "code",
      "source": [
        "pipe = Pipeline(steps=[\n",
        "                       (\"preprocessor\",preprocessor),\n",
        "                       ('pca', PCA(n_components=14)),\n",
        "                       \n",
        "                       (\"clf\",LogisticRegression(max_iter=300))\n",
        "                       \n",
        "                       \n",
        "\n",
        "])"
      ],
      "metadata": {
        "id": "7xWUvY4t4n1M"
      },
      "execution_count": 64,
      "outputs": []
    },
    {
      "cell_type": "code",
      "source": [
        "pipe.get_params().keys()"
      ],
      "metadata": {
        "colab": {
          "base_uri": "https://localhost:8080/"
        },
        "id": "ds-uyEfQXU_E",
        "outputId": "cd6962a4-15cf-431e-93e0-d780c8d33e4e"
      },
      "execution_count": 65,
      "outputs": [
        {
          "output_type": "execute_result",
          "data": {
            "text/plain": [
              "dict_keys(['memory', 'steps', 'verbose', 'preprocessor', 'pca', 'clf', 'preprocessor__n_jobs', 'preprocessor__remainder', 'preprocessor__sparse_threshold', 'preprocessor__transformer_weights', 'preprocessor__transformers', 'preprocessor__verbose', 'preprocessor__verbose_feature_names_out', 'preprocessor__numerical_pipeline', 'preprocessor__categorical_pipeline', 'preprocessor__numerical_pipeline__memory', 'preprocessor__numerical_pipeline__steps', 'preprocessor__numerical_pipeline__verbose', 'preprocessor__numerical_pipeline__num_imputer', 'preprocessor__numerical_pipeline__scaler', 'preprocessor__numerical_pipeline__num_imputer__add_indicator', 'preprocessor__numerical_pipeline__num_imputer__copy', 'preprocessor__numerical_pipeline__num_imputer__fill_value', 'preprocessor__numerical_pipeline__num_imputer__missing_values', 'preprocessor__numerical_pipeline__num_imputer__strategy', 'preprocessor__numerical_pipeline__num_imputer__verbose', 'preprocessor__numerical_pipeline__scaler__copy', 'preprocessor__numerical_pipeline__scaler__with_mean', 'preprocessor__numerical_pipeline__scaler__with_std', 'preprocessor__categorical_pipeline__memory', 'preprocessor__categorical_pipeline__steps', 'preprocessor__categorical_pipeline__verbose', 'preprocessor__categorical_pipeline__imputer', 'preprocessor__categorical_pipeline__onehot', 'preprocessor__categorical_pipeline__imputer__add_indicator', 'preprocessor__categorical_pipeline__imputer__copy', 'preprocessor__categorical_pipeline__imputer__fill_value', 'preprocessor__categorical_pipeline__imputer__missing_values', 'preprocessor__categorical_pipeline__imputer__strategy', 'preprocessor__categorical_pipeline__imputer__verbose', 'preprocessor__categorical_pipeline__onehot__categories', 'preprocessor__categorical_pipeline__onehot__drop', 'preprocessor__categorical_pipeline__onehot__dtype', 'preprocessor__categorical_pipeline__onehot__handle_unknown', 'preprocessor__categorical_pipeline__onehot__sparse', 'pca__copy', 'pca__iterated_power', 'pca__n_components', 'pca__random_state', 'pca__svd_solver', 'pca__tol', 'pca__whiten', 'clf__C', 'clf__class_weight', 'clf__dual', 'clf__fit_intercept', 'clf__intercept_scaling', 'clf__l1_ratio', 'clf__max_iter', 'clf__multi_class', 'clf__n_jobs', 'clf__penalty', 'clf__random_state', 'clf__solver', 'clf__tol', 'clf__verbose', 'clf__warm_start'])"
            ]
          },
          "metadata": {},
          "execution_count": 65
        }
      ]
    },
    {
      "cell_type": "code",
      "source": [
        "param_grid = [\n",
        "              {\n",
        "                  \n",
        "                  \"preprocessor__numerical_pipeline__num_imputer__strategy\":[\"mean\",\"most_frequent\"],\n",
        "                  \"clf__C\": [0.1, 1.0, 10.0, 100.0],\n",
        "                  \"pca__n_components\": [14,15,16],\n",
        "                  \"clf\": [LogisticRegression()]\n",
        "              },\n",
        "              {\n",
        "                  \n",
        "                  \"preprocessor__numerical_pipeline__num_imputer__strategy\":[\"mean\",\"most_frequent\"],\n",
        "                  \"clf__n_estimators\":[2,4,6,8,10,12,14],\n",
        "                  \"pca__n_components\": [14,15,16],\n",
        "                  \"clf\": [RandomForestClassifier()]\n",
        "              },\n",
        "              {\n",
        "                  \"preprocessor__numerical_pipeline__num_imputer__strategy\":[\"mean\",\"most_frequent\"],\n",
        "                  \"pca__n_components\": [14,15,16],\n",
        "                  \"clf\":[tree.DecisionTreeClassifier()]\n",
        "                  \n",
        "                  \n",
        "              }\n",
        "]"
      ],
      "metadata": {
        "id": "dgFZAEVoXclk"
      },
      "execution_count": 94,
      "outputs": []
    },
    {
      "cell_type": "code",
      "source": [
        "grid_search = GridSearchCV(pipe, param_grid, cv=2,scoring='accuracy', verbose=10,n_jobs=-1)\n",
        "grid_search.get_params().keys()"
      ],
      "metadata": {
        "id": "eMge3_ckZ5Fu",
        "colab": {
          "base_uri": "https://localhost:8080/"
        },
        "outputId": "881c91b3-2fca-4cd0-cd80-38492fee71be"
      },
      "execution_count": 96,
      "outputs": [
        {
          "output_type": "execute_result",
          "data": {
            "text/plain": [
              "dict_keys(['cv', 'error_score', 'estimator__memory', 'estimator__steps', 'estimator__verbose', 'estimator__preprocessor', 'estimator__pca', 'estimator__clf', 'estimator__preprocessor__n_jobs', 'estimator__preprocessor__remainder', 'estimator__preprocessor__sparse_threshold', 'estimator__preprocessor__transformer_weights', 'estimator__preprocessor__transformers', 'estimator__preprocessor__verbose', 'estimator__preprocessor__verbose_feature_names_out', 'estimator__preprocessor__numerical_pipeline', 'estimator__preprocessor__categorical_pipeline', 'estimator__preprocessor__numerical_pipeline__memory', 'estimator__preprocessor__numerical_pipeline__steps', 'estimator__preprocessor__numerical_pipeline__verbose', 'estimator__preprocessor__numerical_pipeline__num_imputer', 'estimator__preprocessor__numerical_pipeline__scaler', 'estimator__preprocessor__numerical_pipeline__num_imputer__add_indicator', 'estimator__preprocessor__numerical_pipeline__num_imputer__copy', 'estimator__preprocessor__numerical_pipeline__num_imputer__fill_value', 'estimator__preprocessor__numerical_pipeline__num_imputer__missing_values', 'estimator__preprocessor__numerical_pipeline__num_imputer__strategy', 'estimator__preprocessor__numerical_pipeline__num_imputer__verbose', 'estimator__preprocessor__numerical_pipeline__scaler__copy', 'estimator__preprocessor__numerical_pipeline__scaler__with_mean', 'estimator__preprocessor__numerical_pipeline__scaler__with_std', 'estimator__preprocessor__categorical_pipeline__memory', 'estimator__preprocessor__categorical_pipeline__steps', 'estimator__preprocessor__categorical_pipeline__verbose', 'estimator__preprocessor__categorical_pipeline__imputer', 'estimator__preprocessor__categorical_pipeline__onehot', 'estimator__preprocessor__categorical_pipeline__imputer__add_indicator', 'estimator__preprocessor__categorical_pipeline__imputer__copy', 'estimator__preprocessor__categorical_pipeline__imputer__fill_value', 'estimator__preprocessor__categorical_pipeline__imputer__missing_values', 'estimator__preprocessor__categorical_pipeline__imputer__strategy', 'estimator__preprocessor__categorical_pipeline__imputer__verbose', 'estimator__preprocessor__categorical_pipeline__onehot__categories', 'estimator__preprocessor__categorical_pipeline__onehot__drop', 'estimator__preprocessor__categorical_pipeline__onehot__dtype', 'estimator__preprocessor__categorical_pipeline__onehot__handle_unknown', 'estimator__preprocessor__categorical_pipeline__onehot__sparse', 'estimator__pca__copy', 'estimator__pca__iterated_power', 'estimator__pca__n_components', 'estimator__pca__random_state', 'estimator__pca__svd_solver', 'estimator__pca__tol', 'estimator__pca__whiten', 'estimator__clf__C', 'estimator__clf__class_weight', 'estimator__clf__dual', 'estimator__clf__fit_intercept', 'estimator__clf__intercept_scaling', 'estimator__clf__l1_ratio', 'estimator__clf__max_iter', 'estimator__clf__multi_class', 'estimator__clf__n_jobs', 'estimator__clf__penalty', 'estimator__clf__random_state', 'estimator__clf__solver', 'estimator__clf__tol', 'estimator__clf__verbose', 'estimator__clf__warm_start', 'estimator', 'n_jobs', 'param_grid', 'pre_dispatch', 'refit', 'return_train_score', 'scoring', 'verbose'])"
            ]
          },
          "metadata": {},
          "execution_count": 96
        }
      ]
    },
    {
      "cell_type": "code",
      "source": [
        "grid_search.fit(X_train, y_train)"
      ],
      "metadata": {
        "colab": {
          "base_uri": "https://localhost:8080/"
        },
        "id": "qFMRBopaaAhS",
        "outputId": "babb5a3d-0b58-4291-d505-c86a6b2ffad7"
      },
      "execution_count": null,
      "outputs": [
        {
          "metadata": {
            "tags": null
          },
          "name": "stdout",
          "output_type": "stream",
          "text": [
            "Fitting 10 folds for each of 456 candidates, totalling 4560 fits\n"
          ]
        }
      ]
    },
    {
      "cell_type": "code",
      "source": [
        ""
      ],
      "metadata": {
        "id": "3-m-BZWYb5hz"
      },
      "execution_count": null,
      "outputs": []
    },
    {
      "cell_type": "code",
      "source": [
        "y_pred = grid_search.predict(X_test)"
      ],
      "metadata": {
        "id": "bN9AJ4tcb8HW"
      },
      "execution_count": 98,
      "outputs": []
    },
    {
      "cell_type": "code",
      "source": [
        "grid_search.best_params_"
      ],
      "metadata": {
        "colab": {
          "base_uri": "https://localhost:8080/"
        },
        "id": "NV-svCVycO_2",
        "outputId": "b699c4cb-3d6e-4d21-99f2-a96037428e5b"
      },
      "execution_count": 99,
      "outputs": [
        {
          "output_type": "execute_result",
          "data": {
            "text/plain": [
              "{'clf': LogisticRegression(C=0.1),\n",
              " 'clf__C': 0.1,\n",
              " 'pca__n_components': 15,\n",
              " 'preprocessor__numerical_pipeline__num_imputer__strategy': 'mean'}"
            ]
          },
          "metadata": {},
          "execution_count": 99
        }
      ]
    },
    {
      "cell_type": "code",
      "source": [
        "from sklearn.metrics import accuracy_score"
      ],
      "metadata": {
        "id": "lz7XfQhgIkEN"
      },
      "execution_count": 100,
      "outputs": []
    },
    {
      "cell_type": "code",
      "source": [
        "acc1 = accuracy_score(y_test,y_pred)"
      ],
      "metadata": {
        "id": "zkRYJbIYSkVm"
      },
      "execution_count": 101,
      "outputs": []
    },
    {
      "cell_type": "code",
      "source": [
        "acc1"
      ],
      "metadata": {
        "colab": {
          "base_uri": "https://localhost:8080/"
        },
        "id": "jZ0EdqA6SotG",
        "outputId": "da6927ab-8b3d-4339-f7aa-9b705f1cd043"
      },
      "execution_count": 102,
      "outputs": [
        {
          "output_type": "execute_result",
          "data": {
            "text/plain": [
              "0.7757331799884991"
            ]
          },
          "metadata": {},
          "execution_count": 102
        }
      ]
    }
  ]
}