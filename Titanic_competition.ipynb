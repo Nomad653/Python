{
  "nbformat": 4,
  "nbformat_minor": 0,
  "metadata": {
    "colab": {
      "name": "Titanic_competition.ipynb",
      "provenance": [],
      "collapsed_sections": [],
      "mount_file_id": "1L3RpBNZr4z78yS1bFn64j7ZDhxG8YKmw",
      "authorship_tag": "ABX9TyPjlikwgQXECLq5CQob3V7N",
      "include_colab_link": true
    },
    "kernelspec": {
      "name": "python3",
      "display_name": "Python 3"
    },
    "language_info": {
      "name": "python"
    },
    "gpuClass": "standard"
  },
  "cells": [
    {
      "cell_type": "markdown",
      "metadata": {
        "id": "view-in-github",
        "colab_type": "text"
      },
      "source": [
        "<a href=\"https://colab.research.google.com/github/Nomad653/Python/blob/main/Titanic_competition.ipynb\" target=\"_parent\"><img src=\"https://colab.research.google.com/assets/colab-badge.svg\" alt=\"Open In Colab\"/></a>"
      ]
    },
    {
      "cell_type": "code",
      "execution_count": 108,
      "metadata": {
        "id": "CdHQHcu_jNMS"
      },
      "outputs": [],
      "source": [
        "import numpy as np"
      ]
    },
    {
      "cell_type": "code",
      "source": [
        "import pandas as pd"
      ],
      "metadata": {
        "id": "x9D2X335jRXK"
      },
      "execution_count": 109,
      "outputs": []
    },
    {
      "cell_type": "code",
      "source": [
        "from sklearn.linear_model import LogisticRegression"
      ],
      "metadata": {
        "id": "C0VXq7AAkJgo"
      },
      "execution_count": 110,
      "outputs": []
    },
    {
      "cell_type": "code",
      "source": [
        "from sklearn.preprocessing import StandardScaler"
      ],
      "metadata": {
        "id": "JMAa-WT0ysF0"
      },
      "execution_count": 111,
      "outputs": []
    },
    {
      "cell_type": "code",
      "source": [
        "from sklearn.pipeline import Pipeline"
      ],
      "metadata": {
        "id": "yE1tDxTMzXYN"
      },
      "execution_count": 112,
      "outputs": []
    },
    {
      "cell_type": "code",
      "source": [
        "from sklearn.impute import SimpleImputer"
      ],
      "metadata": {
        "id": "3ASv0Iie2SXN"
      },
      "execution_count": 113,
      "outputs": []
    },
    {
      "cell_type": "code",
      "source": [
        "from sklearn.preprocessing import OneHotEncoder"
      ],
      "metadata": {
        "id": "JLUpfN483Aed"
      },
      "execution_count": 114,
      "outputs": []
    },
    {
      "cell_type": "code",
      "source": [
        "from sklearn.compose import ColumnTransformer"
      ],
      "metadata": {
        "id": "rQdOC8ST4eUl"
      },
      "execution_count": 115,
      "outputs": []
    },
    {
      "cell_type": "code",
      "source": [
        "from sklearn.ensemble import RandomForestClassifier"
      ],
      "metadata": {
        "id": "BcnqXDbvlEio"
      },
      "execution_count": 116,
      "outputs": []
    },
    {
      "cell_type": "code",
      "source": [
        "from sklearn.model_selection import train_test_split"
      ],
      "metadata": {
        "id": "p1MasN5A6Fz1"
      },
      "execution_count": 117,
      "outputs": []
    },
    {
      "cell_type": "code",
      "source": [
        "from scipy.stats import zscore"
      ],
      "metadata": {
        "id": "woGXC17zXvvf"
      },
      "execution_count": 118,
      "outputs": []
    },
    {
      "cell_type": "code",
      "source": [
        "from sklearn import tree"
      ],
      "metadata": {
        "id": "3qSZv3QCTzsu"
      },
      "execution_count": 119,
      "outputs": []
    },
    {
      "cell_type": "code",
      "source": [
        "from sklearn.decomposition import PCA"
      ],
      "metadata": {
        "id": "aISaEwN6UcNl"
      },
      "execution_count": 120,
      "outputs": []
    },
    {
      "cell_type": "code",
      "source": [
        "from sklearn.model_selection import GridSearchCV"
      ],
      "metadata": {
        "id": "aZMHpAX1PYjy"
      },
      "execution_count": 121,
      "outputs": []
    },
    {
      "cell_type": "code",
      "source": [
        "data = pd.read_csv(\"/content/drive/MyDrive/Machine Learning/Titanic competition/train.csv\")"
      ],
      "metadata": {
        "id": "yznAi8HwjW8Z"
      },
      "execution_count": 122,
      "outputs": []
    },
    {
      "cell_type": "code",
      "source": [
        "new_data = data.drop(columns=[\"Name\"])"
      ],
      "metadata": {
        "id": "Puss8OaUjubI"
      },
      "execution_count": 123,
      "outputs": []
    },
    {
      "cell_type": "code",
      "source": [
        "new_data[\"Group\"] = new_data['PassengerId'].apply(lambda x: x.split('_')[0]).astype(int)"
      ],
      "metadata": {
        "id": "_9_9w4fn98QO"
      },
      "execution_count": 124,
      "outputs": []
    },
    {
      "cell_type": "code",
      "source": [
        "new_data[\"Group_size\"] = new_data['Group'].map(lambda x: new_data['Group'].value_counts()[x])"
      ],
      "metadata": {
        "id": "fPjHL38n-o5i"
      },
      "execution_count": 125,
      "outputs": []
    },
    {
      "cell_type": "code",
      "source": [
        "new_data['IsAlone'] = np.where((new_data[\"Group_size\"] == 1),1,0)"
      ],
      "metadata": {
        "id": "CYY1Vfh3_ys2"
      },
      "execution_count": 126,
      "outputs": []
    },
    {
      "cell_type": "code",
      "source": [
        "new_data.drop(columns=[\"PassengerId\"],inplace=True)"
      ],
      "metadata": {
        "id": "V7RWkhwr_8dj"
      },
      "execution_count": 127,
      "outputs": []
    },
    {
      "cell_type": "code",
      "source": [
        "new_data['Total_billed'] = new_data.RoomService + new_data.FoodCourt + new_data.ShoppingMall +new_data.Spa +new_data.VRDeck"
      ],
      "metadata": {
        "id": "yBr2zjJWYGrn"
      },
      "execution_count": 128,
      "outputs": []
    },
    {
      "cell_type": "code",
      "source": [
        "conditions = [\n",
        "              (new_data['Age']<2),\n",
        "              (new_data['Age']<=15), #Child\n",
        "              (new_data['Age']>15) & (new_data['Age']<=18), #Teenager\n",
        "              (new_data['Age']>18) & (new_data['Age']<=35),#Young adult\n",
        "              (new_data['Age']>35) & (new_data['Age']<=50), #Mid-age\n",
        "              (new_data['Age']>50) & (new_data['Age']<=60),#Old\n",
        "              (new_data['Age']>60)\n",
        "\n",
        "\n",
        "]\n",
        "values = ['Infant','Child','Teenager','Young adult','Mid-age','Old','Elderly']"
      ],
      "metadata": {
        "id": "t2QPzylWAy_P"
      },
      "execution_count": 129,
      "outputs": []
    },
    {
      "cell_type": "code",
      "source": [
        "new_data['Age_group'] = np.select(conditions,values)"
      ],
      "metadata": {
        "id": "CrHJuZRsdcrY"
      },
      "execution_count": 130,
      "outputs": []
    },
    {
      "cell_type": "code",
      "source": [
        "new_data[[\"cabin_param_1\",\"cabin_param_2\",\"cabin_param_3\"]]=new_data['Cabin'].str.split(\"/\",expand=True)"
      ],
      "metadata": {
        "id": "8TYN5SyFydTD"
      },
      "execution_count": 131,
      "outputs": []
    },
    {
      "cell_type": "code",
      "source": [
        "new_data['cabin_param_1']=new_data['cabin_param_1'].map({'B':1, 'F':5, 'A':0, 'G':6 ,'E':4, 'D':3, 'C':2, 'T':7})"
      ],
      "metadata": {
        "id": "Pl7bY43JC33C"
      },
      "execution_count": 132,
      "outputs": []
    },
    {
      "cell_type": "code",
      "source": [
        "new_data['VIP'] = new_data['VIP'].map({True:1,False:0})"
      ],
      "metadata": {
        "id": "i6HEWs3xd_E1"
      },
      "execution_count": 133,
      "outputs": []
    },
    {
      "cell_type": "code",
      "source": [
        "new_data['CryoSleep'] = new_data['CryoSleep'].map({True:1,False:0})"
      ],
      "metadata": {
        "id": "YwPeVyb9e49l"
      },
      "execution_count": 134,
      "outputs": []
    },
    {
      "cell_type": "code",
      "source": [
        "new_data['cabin_param_3']=new_data['cabin_param_3'].map({'P':0,  'S':1})"
      ],
      "metadata": {
        "id": "PxACIV78ETBv"
      },
      "execution_count": 135,
      "outputs": []
    },
    {
      "cell_type": "code",
      "source": [
        "new_data.drop(columns=[\"Cabin\"],inplace=True)"
      ],
      "metadata": {
        "id": "GBMizNKizFir"
      },
      "execution_count": 136,
      "outputs": []
    },
    {
      "cell_type": "code",
      "source": [
        "new_data[\"Age_group\"] = new_data[\"Age_group\"].map({\"Infant\":0,\"Child\":1,\"Teenager\":2,\"Young adult\":3,\"Mid-age\":4,\"Old\":5,\"Elderly\":6})"
      ],
      "metadata": {
        "id": "9075OoII-G6d"
      },
      "execution_count": 137,
      "outputs": []
    },
    {
      "cell_type": "code",
      "source": [
        "new_data.corr()"
      ],
      "metadata": {
        "colab": {
          "base_uri": "https://localhost:8080/",
          "height": 615
        },
        "id": "XUnH4Sd7gV4N",
        "outputId": "ca0992d3-08c9-4300-ae22-f0a41e71a322"
      },
      "execution_count": 167,
      "outputs": [
        {
          "output_type": "execute_result",
          "data": {
            "text/plain": [
              "               CryoSleep       Age       VIP  RoomService  FoodCourt  \\\n",
              "CryoSleep       1.000000 -0.074273 -0.081402    -0.252396  -0.211510   \n",
              "Age            -0.074273  1.000000  0.092819     0.068723   0.130421   \n",
              "VIP            -0.081402  0.092819  1.000000     0.058785   0.129799   \n",
              "RoomService    -0.252396  0.068723  0.058785     1.000000  -0.015889   \n",
              "FoodCourt      -0.211510  0.130421  0.129799    -0.015889   1.000000   \n",
              "ShoppingMall   -0.212514  0.033133  0.018295     0.054480  -0.014228   \n",
              "Spa            -0.203991  0.123970  0.061059     0.010080   0.221891   \n",
              "VRDeck         -0.198857  0.101007  0.125974    -0.019581   0.227995   \n",
              "Transported     0.468645 -0.075026 -0.037650    -0.244611   0.046566   \n",
              "Group          -0.005879 -0.009439  0.014018    -0.000346  -0.009552   \n",
              "Group_size      0.082651 -0.179102  0.002758    -0.040777   0.032632   \n",
              "IsAlone        -0.095697  0.135174 -0.034373     0.020116  -0.067533   \n",
              "Total_billed   -0.385749  0.189475  0.170024     0.235768   0.747214   \n",
              "Age_group      -0.098673  0.937267  0.080972     0.071395   0.123087   \n",
              "cabin_param_1   0.017823 -0.248003 -0.183393    -0.026783  -0.324348   \n",
              "cabin_param_3   0.019677  0.011640 -0.010117    -0.012290   0.020149   \n",
              "\n",
              "               ShoppingMall       Spa    VRDeck  Transported     Group  \\\n",
              "CryoSleep         -0.212514 -0.203991 -0.198857     0.468645 -0.005879   \n",
              "Age                0.033133  0.123970  0.101007    -0.075026 -0.009439   \n",
              "VIP                0.018295  0.061059  0.125974    -0.037650  0.014018   \n",
              "RoomService        0.054480  0.010080 -0.019581    -0.244611 -0.000346   \n",
              "FoodCourt         -0.014228  0.221891  0.227995     0.046566 -0.009552   \n",
              "ShoppingMall       1.000000  0.013879 -0.007322     0.010141  0.017397   \n",
              "Spa                0.013879  1.000000  0.153821    -0.221131 -0.005211   \n",
              "VRDeck            -0.007322  0.153821  1.000000    -0.207075  0.015432   \n",
              "Transported        0.010141 -0.221131 -0.207075     1.000000  0.021491   \n",
              "Group              0.017397 -0.005211  0.015432     0.021491  1.000000   \n",
              "Group_size        -0.038770  0.019223  0.009401     0.082644  0.014753   \n",
              "IsAlone            0.029211 -0.043821 -0.044424    -0.113792 -0.000266   \n",
              "Total_billed       0.224083  0.597796  0.573186    -0.197671 -0.001793   \n",
              "Age_group          0.043715  0.118069  0.100275    -0.098055 -0.005843   \n",
              "cabin_param_1     -0.032926 -0.229111 -0.257326    -0.116462 -0.002276   \n",
              "cabin_param_3     -0.020983  0.002031 -0.008154     0.103775 -0.006721   \n",
              "\n",
              "               Group_size   IsAlone  Total_billed  Age_group  cabin_param_1  \\\n",
              "CryoSleep        0.082651 -0.095697     -0.385749  -0.098673       0.017823   \n",
              "Age             -0.179102  0.135174      0.189475   0.937267      -0.248003   \n",
              "VIP              0.002758 -0.034373      0.170024   0.080972      -0.183393   \n",
              "RoomService     -0.040777  0.020116      0.235768   0.071395      -0.026783   \n",
              "FoodCourt        0.032632 -0.067533      0.747214   0.123087      -0.324348   \n",
              "ShoppingMall    -0.038770  0.029211      0.224083   0.043715      -0.032926   \n",
              "Spa              0.019223 -0.043821      0.597796   0.118069      -0.229111   \n",
              "VRDeck           0.009401 -0.044424      0.573186   0.100275      -0.257326   \n",
              "Transported      0.082644 -0.113792     -0.197671  -0.098055      -0.116462   \n",
              "Group            0.014753 -0.000266     -0.001793  -0.005843      -0.002276   \n",
              "Group_size       1.000000 -0.721192      0.012971  -0.217676      -0.100817   \n",
              "IsAlone         -0.721192  1.000000     -0.063655   0.174867       0.226817   \n",
              "Total_billed     0.012971 -0.063655      1.000000   0.184922      -0.400963   \n",
              "Age_group       -0.217676  0.174867      0.184922   1.000000      -0.230639   \n",
              "cabin_param_1   -0.100817  0.226817     -0.400963  -0.230639       1.000000   \n",
              "cabin_param_3    0.014983 -0.024499      0.003492   0.001093      -0.034500   \n",
              "\n",
              "               cabin_param_3  \n",
              "CryoSleep           0.019677  \n",
              "Age                 0.011640  \n",
              "VIP                -0.010117  \n",
              "RoomService        -0.012290  \n",
              "FoodCourt           0.020149  \n",
              "ShoppingMall       -0.020983  \n",
              "Spa                 0.002031  \n",
              "VRDeck             -0.008154  \n",
              "Transported         0.103775  \n",
              "Group              -0.006721  \n",
              "Group_size          0.014983  \n",
              "IsAlone            -0.024499  \n",
              "Total_billed        0.003492  \n",
              "Age_group           0.001093  \n",
              "cabin_param_1      -0.034500  \n",
              "cabin_param_3       1.000000  "
            ],
            "text/html": [
              "\n",
              "  <div id=\"df-4e07a4ad-cc2d-4c1b-9dff-eb9feabede9d\">\n",
              "    <div class=\"colab-df-container\">\n",
              "      <div>\n",
              "<style scoped>\n",
              "    .dataframe tbody tr th:only-of-type {\n",
              "        vertical-align: middle;\n",
              "    }\n",
              "\n",
              "    .dataframe tbody tr th {\n",
              "        vertical-align: top;\n",
              "    }\n",
              "\n",
              "    .dataframe thead th {\n",
              "        text-align: right;\n",
              "    }\n",
              "</style>\n",
              "<table border=\"1\" class=\"dataframe\">\n",
              "  <thead>\n",
              "    <tr style=\"text-align: right;\">\n",
              "      <th></th>\n",
              "      <th>CryoSleep</th>\n",
              "      <th>Age</th>\n",
              "      <th>VIP</th>\n",
              "      <th>RoomService</th>\n",
              "      <th>FoodCourt</th>\n",
              "      <th>ShoppingMall</th>\n",
              "      <th>Spa</th>\n",
              "      <th>VRDeck</th>\n",
              "      <th>Transported</th>\n",
              "      <th>Group</th>\n",
              "      <th>Group_size</th>\n",
              "      <th>IsAlone</th>\n",
              "      <th>Total_billed</th>\n",
              "      <th>Age_group</th>\n",
              "      <th>cabin_param_1</th>\n",
              "      <th>cabin_param_3</th>\n",
              "    </tr>\n",
              "  </thead>\n",
              "  <tbody>\n",
              "    <tr>\n",
              "      <th>CryoSleep</th>\n",
              "      <td>1.000000</td>\n",
              "      <td>-0.074273</td>\n",
              "      <td>-0.081402</td>\n",
              "      <td>-0.252396</td>\n",
              "      <td>-0.211510</td>\n",
              "      <td>-0.212514</td>\n",
              "      <td>-0.203991</td>\n",
              "      <td>-0.198857</td>\n",
              "      <td>0.468645</td>\n",
              "      <td>-0.005879</td>\n",
              "      <td>0.082651</td>\n",
              "      <td>-0.095697</td>\n",
              "      <td>-0.385749</td>\n",
              "      <td>-0.098673</td>\n",
              "      <td>0.017823</td>\n",
              "      <td>0.019677</td>\n",
              "    </tr>\n",
              "    <tr>\n",
              "      <th>Age</th>\n",
              "      <td>-0.074273</td>\n",
              "      <td>1.000000</td>\n",
              "      <td>0.092819</td>\n",
              "      <td>0.068723</td>\n",
              "      <td>0.130421</td>\n",
              "      <td>0.033133</td>\n",
              "      <td>0.123970</td>\n",
              "      <td>0.101007</td>\n",
              "      <td>-0.075026</td>\n",
              "      <td>-0.009439</td>\n",
              "      <td>-0.179102</td>\n",
              "      <td>0.135174</td>\n",
              "      <td>0.189475</td>\n",
              "      <td>0.937267</td>\n",
              "      <td>-0.248003</td>\n",
              "      <td>0.011640</td>\n",
              "    </tr>\n",
              "    <tr>\n",
              "      <th>VIP</th>\n",
              "      <td>-0.081402</td>\n",
              "      <td>0.092819</td>\n",
              "      <td>1.000000</td>\n",
              "      <td>0.058785</td>\n",
              "      <td>0.129799</td>\n",
              "      <td>0.018295</td>\n",
              "      <td>0.061059</td>\n",
              "      <td>0.125974</td>\n",
              "      <td>-0.037650</td>\n",
              "      <td>0.014018</td>\n",
              "      <td>0.002758</td>\n",
              "      <td>-0.034373</td>\n",
              "      <td>0.170024</td>\n",
              "      <td>0.080972</td>\n",
              "      <td>-0.183393</td>\n",
              "      <td>-0.010117</td>\n",
              "    </tr>\n",
              "    <tr>\n",
              "      <th>RoomService</th>\n",
              "      <td>-0.252396</td>\n",
              "      <td>0.068723</td>\n",
              "      <td>0.058785</td>\n",
              "      <td>1.000000</td>\n",
              "      <td>-0.015889</td>\n",
              "      <td>0.054480</td>\n",
              "      <td>0.010080</td>\n",
              "      <td>-0.019581</td>\n",
              "      <td>-0.244611</td>\n",
              "      <td>-0.000346</td>\n",
              "      <td>-0.040777</td>\n",
              "      <td>0.020116</td>\n",
              "      <td>0.235768</td>\n",
              "      <td>0.071395</td>\n",
              "      <td>-0.026783</td>\n",
              "      <td>-0.012290</td>\n",
              "    </tr>\n",
              "    <tr>\n",
              "      <th>FoodCourt</th>\n",
              "      <td>-0.211510</td>\n",
              "      <td>0.130421</td>\n",
              "      <td>0.129799</td>\n",
              "      <td>-0.015889</td>\n",
              "      <td>1.000000</td>\n",
              "      <td>-0.014228</td>\n",
              "      <td>0.221891</td>\n",
              "      <td>0.227995</td>\n",
              "      <td>0.046566</td>\n",
              "      <td>-0.009552</td>\n",
              "      <td>0.032632</td>\n",
              "      <td>-0.067533</td>\n",
              "      <td>0.747214</td>\n",
              "      <td>0.123087</td>\n",
              "      <td>-0.324348</td>\n",
              "      <td>0.020149</td>\n",
              "    </tr>\n",
              "    <tr>\n",
              "      <th>ShoppingMall</th>\n",
              "      <td>-0.212514</td>\n",
              "      <td>0.033133</td>\n",
              "      <td>0.018295</td>\n",
              "      <td>0.054480</td>\n",
              "      <td>-0.014228</td>\n",
              "      <td>1.000000</td>\n",
              "      <td>0.013879</td>\n",
              "      <td>-0.007322</td>\n",
              "      <td>0.010141</td>\n",
              "      <td>0.017397</td>\n",
              "      <td>-0.038770</td>\n",
              "      <td>0.029211</td>\n",
              "      <td>0.224083</td>\n",
              "      <td>0.043715</td>\n",
              "      <td>-0.032926</td>\n",
              "      <td>-0.020983</td>\n",
              "    </tr>\n",
              "    <tr>\n",
              "      <th>Spa</th>\n",
              "      <td>-0.203991</td>\n",
              "      <td>0.123970</td>\n",
              "      <td>0.061059</td>\n",
              "      <td>0.010080</td>\n",
              "      <td>0.221891</td>\n",
              "      <td>0.013879</td>\n",
              "      <td>1.000000</td>\n",
              "      <td>0.153821</td>\n",
              "      <td>-0.221131</td>\n",
              "      <td>-0.005211</td>\n",
              "      <td>0.019223</td>\n",
              "      <td>-0.043821</td>\n",
              "      <td>0.597796</td>\n",
              "      <td>0.118069</td>\n",
              "      <td>-0.229111</td>\n",
              "      <td>0.002031</td>\n",
              "    </tr>\n",
              "    <tr>\n",
              "      <th>VRDeck</th>\n",
              "      <td>-0.198857</td>\n",
              "      <td>0.101007</td>\n",
              "      <td>0.125974</td>\n",
              "      <td>-0.019581</td>\n",
              "      <td>0.227995</td>\n",
              "      <td>-0.007322</td>\n",
              "      <td>0.153821</td>\n",
              "      <td>1.000000</td>\n",
              "      <td>-0.207075</td>\n",
              "      <td>0.015432</td>\n",
              "      <td>0.009401</td>\n",
              "      <td>-0.044424</td>\n",
              "      <td>0.573186</td>\n",
              "      <td>0.100275</td>\n",
              "      <td>-0.257326</td>\n",
              "      <td>-0.008154</td>\n",
              "    </tr>\n",
              "    <tr>\n",
              "      <th>Transported</th>\n",
              "      <td>0.468645</td>\n",
              "      <td>-0.075026</td>\n",
              "      <td>-0.037650</td>\n",
              "      <td>-0.244611</td>\n",
              "      <td>0.046566</td>\n",
              "      <td>0.010141</td>\n",
              "      <td>-0.221131</td>\n",
              "      <td>-0.207075</td>\n",
              "      <td>1.000000</td>\n",
              "      <td>0.021491</td>\n",
              "      <td>0.082644</td>\n",
              "      <td>-0.113792</td>\n",
              "      <td>-0.197671</td>\n",
              "      <td>-0.098055</td>\n",
              "      <td>-0.116462</td>\n",
              "      <td>0.103775</td>\n",
              "    </tr>\n",
              "    <tr>\n",
              "      <th>Group</th>\n",
              "      <td>-0.005879</td>\n",
              "      <td>-0.009439</td>\n",
              "      <td>0.014018</td>\n",
              "      <td>-0.000346</td>\n",
              "      <td>-0.009552</td>\n",
              "      <td>0.017397</td>\n",
              "      <td>-0.005211</td>\n",
              "      <td>0.015432</td>\n",
              "      <td>0.021491</td>\n",
              "      <td>1.000000</td>\n",
              "      <td>0.014753</td>\n",
              "      <td>-0.000266</td>\n",
              "      <td>-0.001793</td>\n",
              "      <td>-0.005843</td>\n",
              "      <td>-0.002276</td>\n",
              "      <td>-0.006721</td>\n",
              "    </tr>\n",
              "    <tr>\n",
              "      <th>Group_size</th>\n",
              "      <td>0.082651</td>\n",
              "      <td>-0.179102</td>\n",
              "      <td>0.002758</td>\n",
              "      <td>-0.040777</td>\n",
              "      <td>0.032632</td>\n",
              "      <td>-0.038770</td>\n",
              "      <td>0.019223</td>\n",
              "      <td>0.009401</td>\n",
              "      <td>0.082644</td>\n",
              "      <td>0.014753</td>\n",
              "      <td>1.000000</td>\n",
              "      <td>-0.721192</td>\n",
              "      <td>0.012971</td>\n",
              "      <td>-0.217676</td>\n",
              "      <td>-0.100817</td>\n",
              "      <td>0.014983</td>\n",
              "    </tr>\n",
              "    <tr>\n",
              "      <th>IsAlone</th>\n",
              "      <td>-0.095697</td>\n",
              "      <td>0.135174</td>\n",
              "      <td>-0.034373</td>\n",
              "      <td>0.020116</td>\n",
              "      <td>-0.067533</td>\n",
              "      <td>0.029211</td>\n",
              "      <td>-0.043821</td>\n",
              "      <td>-0.044424</td>\n",
              "      <td>-0.113792</td>\n",
              "      <td>-0.000266</td>\n",
              "      <td>-0.721192</td>\n",
              "      <td>1.000000</td>\n",
              "      <td>-0.063655</td>\n",
              "      <td>0.174867</td>\n",
              "      <td>0.226817</td>\n",
              "      <td>-0.024499</td>\n",
              "    </tr>\n",
              "    <tr>\n",
              "      <th>Total_billed</th>\n",
              "      <td>-0.385749</td>\n",
              "      <td>0.189475</td>\n",
              "      <td>0.170024</td>\n",
              "      <td>0.235768</td>\n",
              "      <td>0.747214</td>\n",
              "      <td>0.224083</td>\n",
              "      <td>0.597796</td>\n",
              "      <td>0.573186</td>\n",
              "      <td>-0.197671</td>\n",
              "      <td>-0.001793</td>\n",
              "      <td>0.012971</td>\n",
              "      <td>-0.063655</td>\n",
              "      <td>1.000000</td>\n",
              "      <td>0.184922</td>\n",
              "      <td>-0.400963</td>\n",
              "      <td>0.003492</td>\n",
              "    </tr>\n",
              "    <tr>\n",
              "      <th>Age_group</th>\n",
              "      <td>-0.098673</td>\n",
              "      <td>0.937267</td>\n",
              "      <td>0.080972</td>\n",
              "      <td>0.071395</td>\n",
              "      <td>0.123087</td>\n",
              "      <td>0.043715</td>\n",
              "      <td>0.118069</td>\n",
              "      <td>0.100275</td>\n",
              "      <td>-0.098055</td>\n",
              "      <td>-0.005843</td>\n",
              "      <td>-0.217676</td>\n",
              "      <td>0.174867</td>\n",
              "      <td>0.184922</td>\n",
              "      <td>1.000000</td>\n",
              "      <td>-0.230639</td>\n",
              "      <td>0.001093</td>\n",
              "    </tr>\n",
              "    <tr>\n",
              "      <th>cabin_param_1</th>\n",
              "      <td>0.017823</td>\n",
              "      <td>-0.248003</td>\n",
              "      <td>-0.183393</td>\n",
              "      <td>-0.026783</td>\n",
              "      <td>-0.324348</td>\n",
              "      <td>-0.032926</td>\n",
              "      <td>-0.229111</td>\n",
              "      <td>-0.257326</td>\n",
              "      <td>-0.116462</td>\n",
              "      <td>-0.002276</td>\n",
              "      <td>-0.100817</td>\n",
              "      <td>0.226817</td>\n",
              "      <td>-0.400963</td>\n",
              "      <td>-0.230639</td>\n",
              "      <td>1.000000</td>\n",
              "      <td>-0.034500</td>\n",
              "    </tr>\n",
              "    <tr>\n",
              "      <th>cabin_param_3</th>\n",
              "      <td>0.019677</td>\n",
              "      <td>0.011640</td>\n",
              "      <td>-0.010117</td>\n",
              "      <td>-0.012290</td>\n",
              "      <td>0.020149</td>\n",
              "      <td>-0.020983</td>\n",
              "      <td>0.002031</td>\n",
              "      <td>-0.008154</td>\n",
              "      <td>0.103775</td>\n",
              "      <td>-0.006721</td>\n",
              "      <td>0.014983</td>\n",
              "      <td>-0.024499</td>\n",
              "      <td>0.003492</td>\n",
              "      <td>0.001093</td>\n",
              "      <td>-0.034500</td>\n",
              "      <td>1.000000</td>\n",
              "    </tr>\n",
              "  </tbody>\n",
              "</table>\n",
              "</div>\n",
              "      <button class=\"colab-df-convert\" onclick=\"convertToInteractive('df-4e07a4ad-cc2d-4c1b-9dff-eb9feabede9d')\"\n",
              "              title=\"Convert this dataframe to an interactive table.\"\n",
              "              style=\"display:none;\">\n",
              "        \n",
              "  <svg xmlns=\"http://www.w3.org/2000/svg\" height=\"24px\"viewBox=\"0 0 24 24\"\n",
              "       width=\"24px\">\n",
              "    <path d=\"M0 0h24v24H0V0z\" fill=\"none\"/>\n",
              "    <path d=\"M18.56 5.44l.94 2.06.94-2.06 2.06-.94-2.06-.94-.94-2.06-.94 2.06-2.06.94zm-11 1L8.5 8.5l.94-2.06 2.06-.94-2.06-.94L8.5 2.5l-.94 2.06-2.06.94zm10 10l.94 2.06.94-2.06 2.06-.94-2.06-.94-.94-2.06-.94 2.06-2.06.94z\"/><path d=\"M17.41 7.96l-1.37-1.37c-.4-.4-.92-.59-1.43-.59-.52 0-1.04.2-1.43.59L10.3 9.45l-7.72 7.72c-.78.78-.78 2.05 0 2.83L4 21.41c.39.39.9.59 1.41.59.51 0 1.02-.2 1.41-.59l7.78-7.78 2.81-2.81c.8-.78.8-2.07 0-2.86zM5.41 20L4 18.59l7.72-7.72 1.47 1.35L5.41 20z\"/>\n",
              "  </svg>\n",
              "      </button>\n",
              "      \n",
              "  <style>\n",
              "    .colab-df-container {\n",
              "      display:flex;\n",
              "      flex-wrap:wrap;\n",
              "      gap: 12px;\n",
              "    }\n",
              "\n",
              "    .colab-df-convert {\n",
              "      background-color: #E8F0FE;\n",
              "      border: none;\n",
              "      border-radius: 50%;\n",
              "      cursor: pointer;\n",
              "      display: none;\n",
              "      fill: #1967D2;\n",
              "      height: 32px;\n",
              "      padding: 0 0 0 0;\n",
              "      width: 32px;\n",
              "    }\n",
              "\n",
              "    .colab-df-convert:hover {\n",
              "      background-color: #E2EBFA;\n",
              "      box-shadow: 0px 1px 2px rgba(60, 64, 67, 0.3), 0px 1px 3px 1px rgba(60, 64, 67, 0.15);\n",
              "      fill: #174EA6;\n",
              "    }\n",
              "\n",
              "    [theme=dark] .colab-df-convert {\n",
              "      background-color: #3B4455;\n",
              "      fill: #D2E3FC;\n",
              "    }\n",
              "\n",
              "    [theme=dark] .colab-df-convert:hover {\n",
              "      background-color: #434B5C;\n",
              "      box-shadow: 0px 1px 3px 1px rgba(0, 0, 0, 0.15);\n",
              "      filter: drop-shadow(0px 1px 2px rgba(0, 0, 0, 0.3));\n",
              "      fill: #FFFFFF;\n",
              "    }\n",
              "  </style>\n",
              "\n",
              "      <script>\n",
              "        const buttonEl =\n",
              "          document.querySelector('#df-4e07a4ad-cc2d-4c1b-9dff-eb9feabede9d button.colab-df-convert');\n",
              "        buttonEl.style.display =\n",
              "          google.colab.kernel.accessAllowed ? 'block' : 'none';\n",
              "\n",
              "        async function convertToInteractive(key) {\n",
              "          const element = document.querySelector('#df-4e07a4ad-cc2d-4c1b-9dff-eb9feabede9d');\n",
              "          const dataTable =\n",
              "            await google.colab.kernel.invokeFunction('convertToInteractive',\n",
              "                                                     [key], {});\n",
              "          if (!dataTable) return;\n",
              "\n",
              "          const docLinkHtml = 'Like what you see? Visit the ' +\n",
              "            '<a target=\"_blank\" href=https://colab.research.google.com/notebooks/data_table.ipynb>data table notebook</a>'\n",
              "            + ' to learn more about interactive tables.';\n",
              "          element.innerHTML = '';\n",
              "          dataTable['output_type'] = 'display_data';\n",
              "          await google.colab.output.renderOutput(dataTable, element);\n",
              "          const docLink = document.createElement('div');\n",
              "          docLink.innerHTML = docLinkHtml;\n",
              "          element.appendChild(docLink);\n",
              "        }\n",
              "      </script>\n",
              "    </div>\n",
              "  </div>\n",
              "  "
            ]
          },
          "metadata": {},
          "execution_count": 167
        }
      ]
    },
    {
      "cell_type": "code",
      "source": [
        "X  =new_data.drop(\"Transported\",axis=1)\n",
        "\n",
        "y = new_data[\"Transported\"]"
      ],
      "metadata": {
        "id": "9LrTI5s8jvss"
      },
      "execution_count": 139,
      "outputs": []
    },
    {
      "cell_type": "code",
      "source": [
        "num=X.select_dtypes(include=\"number\").columns\n",
        "cat=X.select_dtypes(include=\"object\").columns"
      ],
      "metadata": {
        "id": "C2OatGWm4JY0"
      },
      "execution_count": 140,
      "outputs": []
    },
    {
      "cell_type": "code",
      "source": [
        "X_train,X_test,y_train,y_test = train_test_split(X,y,test_size=0.2,random_state=42)"
      ],
      "metadata": {
        "id": "sWQf_hNY6EVF"
      },
      "execution_count": 141,
      "outputs": []
    },
    {
      "cell_type": "code",
      "source": [
        "num_pipeline = Pipeline(steps=[(\"num_imputer\", SimpleImputer(strategy=\"mean\",missing_values=np.nan)),\n",
        "                               (\"scaler\",StandardScaler())\n",
        "                        ])\n",
        "\n",
        "cat_pipeline = Pipeline(steps=[\n",
        "                               ('imputer',SimpleImputer(strategy=\"most_frequent\",missing_values=np.nan)),\n",
        "                               ('onehot',OneHotEncoder(handle_unknown=\"ignore\",sparse=False))\n",
        "])"
      ],
      "metadata": {
        "id": "sRmrDHJjzHEG"
      },
      "execution_count": 142,
      "outputs": []
    },
    {
      "cell_type": "code",
      "source": [
        "preprocessor = ColumnTransformer([(\"numerical_pipeline\",num_pipeline,num),\n",
        "                                  (\"categorical_pipeline\",cat_pipeline,cat)\n",
        "                                  ])"
      ],
      "metadata": {
        "id": "rDzBkRFUzyO9"
      },
      "execution_count": 143,
      "outputs": []
    },
    {
      "cell_type": "code",
      "source": [
        "pipe = Pipeline(steps=[\n",
        "                       (\"preprocessor\",preprocessor),\n",
        "                       \n",
        "                       (\"clf\",LogisticRegression(max_iter=300))\n",
        "                       \n",
        "                       \n",
        "\n",
        "])"
      ],
      "metadata": {
        "id": "7xWUvY4t4n1M"
      },
      "execution_count": 144,
      "outputs": []
    },
    {
      "cell_type": "code",
      "source": [
        "pipe.fit(X_train, y_train)"
      ],
      "metadata": {
        "colab": {
          "base_uri": "https://localhost:8080/"
        },
        "id": "qFMRBopaaAhS",
        "outputId": "df1ce1fe-36b7-4a93-9270-a69bccfbdf9c"
      },
      "execution_count": 145,
      "outputs": [
        {
          "output_type": "execute_result",
          "data": {
            "text/plain": [
              "Pipeline(steps=[('preprocessor',\n",
              "                 ColumnTransformer(transformers=[('numerical_pipeline',\n",
              "                                                  Pipeline(steps=[('num_imputer',\n",
              "                                                                   SimpleImputer()),\n",
              "                                                                  ('scaler',\n",
              "                                                                   StandardScaler())]),\n",
              "                                                  Index(['CryoSleep', 'Age', 'VIP', 'RoomService', 'FoodCourt', 'ShoppingMall',\n",
              "       'Spa', 'VRDeck', 'Group', 'Group_size', 'IsAlone', 'Total_billed',\n",
              "       'Age_group', 'cabin_param_1', 'cabin_param_3'],\n",
              "      dtype='object')),\n",
              "                                                 ('categorical_pipeline',\n",
              "                                                  Pipeline(steps=[('imputer',\n",
              "                                                                   SimpleImputer(strategy='most_frequent')),\n",
              "                                                                  ('onehot',\n",
              "                                                                   OneHotEncoder(handle_unknown='ignore',\n",
              "                                                                                 sparse=False))]),\n",
              "                                                  Index(['HomePlanet', 'Destination', 'cabin_param_2'], dtype='object'))])),\n",
              "                ('clf', LogisticRegression(max_iter=300))])"
            ]
          },
          "metadata": {},
          "execution_count": 145
        }
      ]
    },
    {
      "cell_type": "code",
      "source": [
        "y_pred = pipe.predict(X_test)"
      ],
      "metadata": {
        "id": "bN9AJ4tcb8HW"
      },
      "execution_count": 146,
      "outputs": []
    },
    {
      "cell_type": "code",
      "source": [
        "from sklearn.metrics import accuracy_score"
      ],
      "metadata": {
        "id": "lz7XfQhgIkEN"
      },
      "execution_count": 147,
      "outputs": []
    },
    {
      "cell_type": "code",
      "source": [
        "acc1 = accuracy_score(y_test,y_pred)"
      ],
      "metadata": {
        "id": "zkRYJbIYSkVm"
      },
      "execution_count": 148,
      "outputs": []
    },
    {
      "cell_type": "code",
      "source": [
        "acc1"
      ],
      "metadata": {
        "colab": {
          "base_uri": "https://localhost:8080/"
        },
        "id": "jZ0EdqA6SotG",
        "outputId": "7191f18f-589e-4792-d0f6-29ec2b1843ad"
      },
      "execution_count": 149,
      "outputs": [
        {
          "output_type": "execute_result",
          "data": {
            "text/plain": [
              "0.7780333525014376"
            ]
          },
          "metadata": {},
          "execution_count": 149
        }
      ]
    },
    {
      "cell_type": "code",
      "source": [
        "import lightgbm as lgb"
      ],
      "metadata": {
        "id": "HaPTXZYk23mL"
      },
      "execution_count": 150,
      "outputs": []
    },
    {
      "cell_type": "code",
      "source": [
        "pipe2 = Pipeline(steps=[\n",
        "                       (\"preprocessor\",preprocessor),\n",
        "                       \n",
        "                       (\"lgb\",lgb.LGBMClassifier())\n",
        "                       \n",
        "                       \n",
        "\n",
        "])"
      ],
      "metadata": {
        "id": "QjBHkbeV2-ND"
      },
      "execution_count": 151,
      "outputs": []
    },
    {
      "cell_type": "code",
      "source": [
        "pipe2.get_params().keys()"
      ],
      "metadata": {
        "id": "QYwp3TT44fwO",
        "outputId": "46cecf2a-e5f8-410f-ee5d-a04248e5ca59",
        "colab": {
          "base_uri": "https://localhost:8080/"
        }
      },
      "execution_count": 152,
      "outputs": [
        {
          "output_type": "execute_result",
          "data": {
            "text/plain": [
              "dict_keys(['memory', 'steps', 'verbose', 'preprocessor', 'lgb', 'preprocessor__n_jobs', 'preprocessor__remainder', 'preprocessor__sparse_threshold', 'preprocessor__transformer_weights', 'preprocessor__transformers', 'preprocessor__verbose', 'preprocessor__verbose_feature_names_out', 'preprocessor__numerical_pipeline', 'preprocessor__categorical_pipeline', 'preprocessor__numerical_pipeline__memory', 'preprocessor__numerical_pipeline__steps', 'preprocessor__numerical_pipeline__verbose', 'preprocessor__numerical_pipeline__num_imputer', 'preprocessor__numerical_pipeline__scaler', 'preprocessor__numerical_pipeline__num_imputer__add_indicator', 'preprocessor__numerical_pipeline__num_imputer__copy', 'preprocessor__numerical_pipeline__num_imputer__fill_value', 'preprocessor__numerical_pipeline__num_imputer__missing_values', 'preprocessor__numerical_pipeline__num_imputer__strategy', 'preprocessor__numerical_pipeline__num_imputer__verbose', 'preprocessor__numerical_pipeline__scaler__copy', 'preprocessor__numerical_pipeline__scaler__with_mean', 'preprocessor__numerical_pipeline__scaler__with_std', 'preprocessor__categorical_pipeline__memory', 'preprocessor__categorical_pipeline__steps', 'preprocessor__categorical_pipeline__verbose', 'preprocessor__categorical_pipeline__imputer', 'preprocessor__categorical_pipeline__onehot', 'preprocessor__categorical_pipeline__imputer__add_indicator', 'preprocessor__categorical_pipeline__imputer__copy', 'preprocessor__categorical_pipeline__imputer__fill_value', 'preprocessor__categorical_pipeline__imputer__missing_values', 'preprocessor__categorical_pipeline__imputer__strategy', 'preprocessor__categorical_pipeline__imputer__verbose', 'preprocessor__categorical_pipeline__onehot__categories', 'preprocessor__categorical_pipeline__onehot__drop', 'preprocessor__categorical_pipeline__onehot__dtype', 'preprocessor__categorical_pipeline__onehot__handle_unknown', 'preprocessor__categorical_pipeline__onehot__sparse', 'lgb__boosting_type', 'lgb__class_weight', 'lgb__colsample_bytree', 'lgb__importance_type', 'lgb__learning_rate', 'lgb__max_depth', 'lgb__min_child_samples', 'lgb__min_child_weight', 'lgb__min_split_gain', 'lgb__n_estimators', 'lgb__n_jobs', 'lgb__num_leaves', 'lgb__objective', 'lgb__random_state', 'lgb__reg_alpha', 'lgb__reg_lambda', 'lgb__silent', 'lgb__subsample', 'lgb__subsample_for_bin', 'lgb__subsample_freq'])"
            ]
          },
          "metadata": {},
          "execution_count": 152
        }
      ]
    },
    {
      "cell_type": "code",
      "source": [
        "params_grid = [\n",
        "               {\"lgb__num_leaves\":[10,20,30,40,50,60,70,80,90,100]\n",
        "               }\n",
        "\n",
        "]"
      ],
      "metadata": {
        "id": "u8bZ1Nqo4MmI"
      },
      "execution_count": 153,
      "outputs": []
    },
    {
      "cell_type": "code",
      "source": [
        "grid_search = GridSearchCV(pipe2,param_grid=params_grid,scoring=\"accuracy\",verbose=1)"
      ],
      "metadata": {
        "id": "rp0YHWob5ONY"
      },
      "execution_count": 154,
      "outputs": []
    },
    {
      "cell_type": "code",
      "source": [
        "grid_search.fit(X_train,y_train)"
      ],
      "metadata": {
        "id": "84FrXs3T5_id",
        "outputId": "a5264d75-3667-493e-c664-d5794b327d60",
        "colab": {
          "base_uri": "https://localhost:8080/"
        }
      },
      "execution_count": 155,
      "outputs": [
        {
          "output_type": "stream",
          "name": "stdout",
          "text": [
            "Fitting 5 folds for each of 10 candidates, totalling 50 fits\n"
          ]
        },
        {
          "output_type": "execute_result",
          "data": {
            "text/plain": [
              "GridSearchCV(estimator=Pipeline(steps=[('preprocessor',\n",
              "                                        ColumnTransformer(transformers=[('numerical_pipeline',\n",
              "                                                                         Pipeline(steps=[('num_imputer',\n",
              "                                                                                          SimpleImputer()),\n",
              "                                                                                         ('scaler',\n",
              "                                                                                          StandardScaler())]),\n",
              "                                                                         Index(['CryoSleep', 'Age', 'VIP', 'RoomService', 'FoodCourt', 'ShoppingMall',\n",
              "       'Spa', 'VRDeck', 'Group', 'Group_size', 'IsAlone', 'Total_billed',\n",
              "       'Age_group', 'cabin_param_1', 'c...\n",
              "                                                                        ('categorical_pipeline',\n",
              "                                                                         Pipeline(steps=[('imputer',\n",
              "                                                                                          SimpleImputer(strategy='most_frequent')),\n",
              "                                                                                         ('onehot',\n",
              "                                                                                          OneHotEncoder(handle_unknown='ignore',\n",
              "                                                                                                        sparse=False))]),\n",
              "                                                                         Index(['HomePlanet', 'Destination', 'cabin_param_2'], dtype='object'))])),\n",
              "                                       ('lgb', LGBMClassifier())]),\n",
              "             param_grid=[{'lgb__num_leaves': [10, 20, 30, 40, 50, 60, 70, 80,\n",
              "                                              90, 100]}],\n",
              "             scoring='accuracy', verbose=1)"
            ]
          },
          "metadata": {},
          "execution_count": 155
        }
      ]
    },
    {
      "cell_type": "code",
      "source": [
        "grid_search.best_params_"
      ],
      "metadata": {
        "id": "3jg2YFnQ6eEz",
        "outputId": "eb02a61d-fc04-4914-8ef0-45972cf90f1e",
        "colab": {
          "base_uri": "https://localhost:8080/"
        }
      },
      "execution_count": 156,
      "outputs": [
        {
          "output_type": "execute_result",
          "data": {
            "text/plain": [
              "{'lgb__num_leaves': 30}"
            ]
          },
          "metadata": {},
          "execution_count": 156
        }
      ]
    },
    {
      "cell_type": "code",
      "source": [
        "y_pred2 = grid_search.predict(X_test)"
      ],
      "metadata": {
        "id": "kg0k1nvU6g4H"
      },
      "execution_count": 157,
      "outputs": []
    },
    {
      "cell_type": "code",
      "source": [
        "acc2 = accuracy_score(y_test,y_pred2)"
      ],
      "metadata": {
        "id": "ITqdUG2c6nBJ"
      },
      "execution_count": 158,
      "outputs": []
    },
    {
      "cell_type": "code",
      "source": [
        "acc2"
      ],
      "metadata": {
        "id": "nAoWHJiN6ump",
        "outputId": "88c7c009-5ec2-42b3-be43-e1be98a68dfc",
        "colab": {
          "base_uri": "https://localhost:8080/"
        }
      },
      "execution_count": 159,
      "outputs": [
        {
          "output_type": "execute_result",
          "data": {
            "text/plain": [
              "0.8033352501437608"
            ]
          },
          "metadata": {},
          "execution_count": 159
        }
      ]
    }
  ]
}