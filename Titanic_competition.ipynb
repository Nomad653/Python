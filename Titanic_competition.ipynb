{
  "nbformat": 4,
  "nbformat_minor": 0,
  "metadata": {
    "colab": {
      "name": "Copy of Pipeline.ipynb",
      "provenance": [],
      "collapsed_sections": [],
      "mount_file_id": "https://github.com/Nomad653/Python/blob/main/GridSearch_Pipeline.ipynb",
      "authorship_tag": "ABX9TyMaJeVyVASCRedphpPRofkk",
      "include_colab_link": true
    },
    "kernelspec": {
      "name": "python3",
      "display_name": "Python 3"
    },
    "language_info": {
      "name": "python"
    },
    "gpuClass": "standard"
  },
  "cells": [
    {
      "cell_type": "markdown",
      "metadata": {
        "id": "view-in-github",
        "colab_type": "text"
      },
      "source": [
        "<a href=\"https://colab.research.google.com/github/Nomad653/Python/blob/main/Titanic_competition.ipynb\" target=\"_parent\"><img src=\"https://colab.research.google.com/assets/colab-badge.svg\" alt=\"Open In Colab\"/></a>"
      ]
    },
    {
      "cell_type": "code",
      "execution_count": 134,
      "metadata": {
        "id": "CdHQHcu_jNMS"
      },
      "outputs": [],
      "source": [
        "import numpy as np"
      ]
    },
    {
      "cell_type": "code",
      "source": [
        "import pandas as pd"
      ],
      "metadata": {
        "id": "x9D2X335jRXK"
      },
      "execution_count": 135,
      "outputs": []
    },
    {
      "cell_type": "code",
      "source": [
        "from sklearn.linear_model import LogisticRegression"
      ],
      "metadata": {
        "id": "C0VXq7AAkJgo"
      },
      "execution_count": 136,
      "outputs": []
    },
    {
      "cell_type": "code",
      "source": [
        "from sklearn.preprocessing import StandardScaler"
      ],
      "metadata": {
        "id": "JMAa-WT0ysF0"
      },
      "execution_count": 137,
      "outputs": []
    },
    {
      "cell_type": "code",
      "source": [
        "from sklearn.pipeline import Pipeline"
      ],
      "metadata": {
        "id": "yE1tDxTMzXYN"
      },
      "execution_count": 138,
      "outputs": []
    },
    {
      "cell_type": "code",
      "source": [
        "from sklearn.impute import SimpleImputer"
      ],
      "metadata": {
        "id": "3ASv0Iie2SXN"
      },
      "execution_count": 139,
      "outputs": []
    },
    {
      "cell_type": "code",
      "source": [
        "from sklearn.preprocessing import OneHotEncoder"
      ],
      "metadata": {
        "id": "JLUpfN483Aed"
      },
      "execution_count": 140,
      "outputs": []
    },
    {
      "cell_type": "code",
      "source": [
        "from sklearn.compose import ColumnTransformer"
      ],
      "metadata": {
        "id": "rQdOC8ST4eUl"
      },
      "execution_count": 141,
      "outputs": []
    },
    {
      "cell_type": "code",
      "source": [
        "from sklearn.ensemble import RandomForestClassifier"
      ],
      "metadata": {
        "id": "BcnqXDbvlEio"
      },
      "execution_count": 142,
      "outputs": []
    },
    {
      "cell_type": "code",
      "source": [
        "from sklearn.model_selection import train_test_split"
      ],
      "metadata": {
        "id": "p1MasN5A6Fz1"
      },
      "execution_count": 143,
      "outputs": []
    },
    {
      "cell_type": "code",
      "source": [
        "from scipy.stats import zscore"
      ],
      "metadata": {
        "id": "woGXC17zXvvf"
      },
      "execution_count": 144,
      "outputs": []
    },
    {
      "cell_type": "code",
      "source": [
        "from sklearn import tree"
      ],
      "metadata": {
        "id": "3qSZv3QCTzsu"
      },
      "execution_count": 145,
      "outputs": []
    },
    {
      "cell_type": "code",
      "source": [
        "from sklearn.decomposition import PCA"
      ],
      "metadata": {
        "id": "aISaEwN6UcNl"
      },
      "execution_count": 146,
      "outputs": []
    },
    {
      "cell_type": "code",
      "source": [
        "from sklearn.model_selection import GridSearchCV"
      ],
      "metadata": {
        "id": "aZMHpAX1PYjy"
      },
      "execution_count": 147,
      "outputs": []
    },
    {
      "cell_type": "code",
      "source": [
        "data = pd.read_csv(\"/content/drive/MyDrive/Machine Learning/Titanic competition/train.csv\")"
      ],
      "metadata": {
        "id": "yznAi8HwjW8Z"
      },
      "execution_count": 148,
      "outputs": []
    },
    {
      "cell_type": "code",
      "source": [
        "new_data = data.drop(columns=[\"Name\",\"PassengerId\"])"
      ],
      "metadata": {
        "id": "Puss8OaUjubI"
      },
      "execution_count": 149,
      "outputs": []
    },
    {
      "cell_type": "code",
      "source": [
        "new_data['Total_billed'] = new_data.RoomService + new_data.FoodCourt + new_data.ShoppingMall +new_data.Spa +new_data.VRDeck"
      ],
      "metadata": {
        "id": "yBr2zjJWYGrn"
      },
      "execution_count": 150,
      "outputs": []
    },
    {
      "cell_type": "code",
      "source": [
        "conditions = [\n",
        "              (new_data['Age']<2),\n",
        "              (new_data['Age']<=15), #Child\n",
        "              (new_data['Age']>15) & (new_data['Age']<=18), #Teenager\n",
        "              (new_data['Age']>18) & (new_data['Age']<=35),#Young adult\n",
        "              (new_data['Age']>35) & (new_data['Age']<=50), #Mid-age\n",
        "              (new_data['Age']>50) & (new_data['Age']<=60),#Old\n",
        "              (new_data['Age']>60)\n",
        "\n",
        "\n",
        "]\n",
        "values = ['Infant','Child','Teenager','Young adult','Mid-age','Old','Elderly']"
      ],
      "metadata": {
        "id": "t2QPzylWAy_P"
      },
      "execution_count": 151,
      "outputs": []
    },
    {
      "cell_type": "code",
      "source": [
        "new_data['Age_group'] = np.select(conditions,values)"
      ],
      "metadata": {
        "id": "CrHJuZRsdcrY"
      },
      "execution_count": 152,
      "outputs": []
    },
    {
      "cell_type": "code",
      "source": [
        "new_data[[\"Cabin_class\",\"Cabin_class2\",\"Cabin_class3\"]]=new_data['Cabin'].str.split(\"/\",expand=True)"
      ],
      "metadata": {
        "id": "8TYN5SyFydTD"
      },
      "execution_count": 153,
      "outputs": []
    },
    {
      "cell_type": "code",
      "source": [
        "new_data.drop(columns=[\"Cabin\"],inplace=True)"
      ],
      "metadata": {
        "id": "GBMizNKizFir"
      },
      "execution_count": 154,
      "outputs": []
    },
    {
      "cell_type": "code",
      "source": [
        "X  =new_data.drop(\"Transported\",axis=1)\n",
        "\n",
        "y = new_data[\"Transported\"]"
      ],
      "metadata": {
        "id": "9LrTI5s8jvss"
      },
      "execution_count": 155,
      "outputs": []
    },
    {
      "cell_type": "code",
      "source": [
        "num=X.select_dtypes(include=\"number\").columns\n",
        "cat=X.select_dtypes(include=\"object\").columns"
      ],
      "metadata": {
        "id": "C2OatGWm4JY0"
      },
      "execution_count": 156,
      "outputs": []
    },
    {
      "cell_type": "code",
      "source": [
        "X_train,X_test,y_train,y_test = train_test_split(X,y,test_size=0.2,random_state=42)"
      ],
      "metadata": {
        "id": "sWQf_hNY6EVF"
      },
      "execution_count": 157,
      "outputs": []
    },
    {
      "cell_type": "code",
      "source": [
        "num_pipeline = Pipeline(steps=[(\"num_imputer\", SimpleImputer(strategy=\"mean\",missing_values=np.nan)),\n",
        "                               (\"scaler\",StandardScaler())\n",
        "                        ])\n",
        "\n",
        "cat_pipeline = Pipeline(steps=[\n",
        "                               ('imputer',SimpleImputer(strategy=\"most_frequent\",missing_values=np.nan)),\n",
        "                               ('onehot',OneHotEncoder(handle_unknown=\"ignore\",sparse=False))\n",
        "])"
      ],
      "metadata": {
        "id": "sRmrDHJjzHEG"
      },
      "execution_count": 158,
      "outputs": []
    },
    {
      "cell_type": "code",
      "source": [
        "preprocessor = ColumnTransformer([(\"numerical_pipeline\",num_pipeline,num),\n",
        "                                  (\"categorical_pipeline\",cat_pipeline,cat)\n",
        "                                  ])"
      ],
      "metadata": {
        "id": "rDzBkRFUzyO9"
      },
      "execution_count": 159,
      "outputs": []
    },
    {
      "cell_type": "code",
      "source": [
        "pipe = Pipeline(steps=[\n",
        "                       (\"preprocessor\",preprocessor),\n",
        "                       \n",
        "                       (\"clf\",LogisticRegression(max_iter=300))\n",
        "                       \n",
        "                       \n",
        "\n",
        "])"
      ],
      "metadata": {
        "id": "7xWUvY4t4n1M"
      },
      "execution_count": 160,
      "outputs": []
    },
    {
      "cell_type": "code",
      "source": [
        "pipe.fit(X_train, y_train)"
      ],
      "metadata": {
        "colab": {
          "base_uri": "https://localhost:8080/"
        },
        "id": "qFMRBopaaAhS",
        "outputId": "dd2d5ce8-8f00-4cf7-d7a7-9d435a180f82"
      },
      "execution_count": 161,
      "outputs": [
        {
          "output_type": "execute_result",
          "data": {
            "text/plain": [
              "Pipeline(steps=[('preprocessor',\n",
              "                 ColumnTransformer(transformers=[('numerical_pipeline',\n",
              "                                                  Pipeline(steps=[('num_imputer',\n",
              "                                                                   SimpleImputer()),\n",
              "                                                                  ('scaler',\n",
              "                                                                   StandardScaler())]),\n",
              "                                                  Index(['Age', 'RoomService', 'FoodCourt', 'ShoppingMall', 'Spa', 'VRDeck',\n",
              "       'Total_billed'],\n",
              "      dtype='object')),\n",
              "                                                 ('categorical_pipeline',\n",
              "                                                  Pipeline(steps=[('imputer',\n",
              "                                                                   SimpleImputer(strategy='most_frequent')),\n",
              "                                                                  ('onehot',\n",
              "                                                                   OneHotEncoder(handle_unknown='ignore',\n",
              "                                                                                 sparse=False))]),\n",
              "                                                  Index(['HomePlanet', 'CryoSleep', 'Destination', 'VIP', 'Age_group',\n",
              "       'Cabin_class', 'Cabin_class2', 'Cabin_class3'],\n",
              "      dtype='object'))])),\n",
              "                ('clf', LogisticRegression(max_iter=300))])"
            ]
          },
          "metadata": {},
          "execution_count": 161
        }
      ]
    },
    {
      "cell_type": "code",
      "source": [
        "y_pred = pipe.predict(X_test)"
      ],
      "metadata": {
        "id": "bN9AJ4tcb8HW"
      },
      "execution_count": 162,
      "outputs": []
    },
    {
      "cell_type": "code",
      "source": [
        "from sklearn.metrics import accuracy_score"
      ],
      "metadata": {
        "id": "lz7XfQhgIkEN"
      },
      "execution_count": 163,
      "outputs": []
    },
    {
      "cell_type": "code",
      "source": [
        "acc1 = accuracy_score(y_test,y_pred)"
      ],
      "metadata": {
        "id": "zkRYJbIYSkVm"
      },
      "execution_count": 164,
      "outputs": []
    },
    {
      "cell_type": "code",
      "source": [
        "acc1"
      ],
      "metadata": {
        "colab": {
          "base_uri": "https://localhost:8080/"
        },
        "id": "jZ0EdqA6SotG",
        "outputId": "63d4f4be-7b92-4e9b-9c23-97f881e0e765"
      },
      "execution_count": 165,
      "outputs": [
        {
          "output_type": "execute_result",
          "data": {
            "text/plain": [
              "0.780333525014376"
            ]
          },
          "metadata": {},
          "execution_count": 165
        }
      ]
    }
  ]
}